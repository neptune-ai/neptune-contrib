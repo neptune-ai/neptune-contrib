{
 "cells": [
  {
   "cell_type": "markdown",
   "metadata": {},
   "source": [
    "# Use parallel coordinates plot to analyse multiple experiments"
   ]
  },
  {
   "cell_type": "markdown",
   "metadata": {},
   "source": [
    "## Outline\n",
    "1. Fetch multiple experiments and analyse the relations between parameters and metrics.\n",
    "1. Save vizualization as html (optionally).\n",
    "1. Setup the visualization to your liking.\n",
    "1. Inspect experiments lineage.\n",
    "\n",
    "## Before we start, make sure you have dependencies installed\n",
    "\n",
    "`pip install neptune-client neptune-contrib hiplot`"
   ]
  },
  {
   "cell_type": "markdown",
   "metadata": {},
   "source": [
    "## Fetch example project"
   ]
  },
  {
   "cell_type": "code",
   "execution_count": 1,
   "metadata": {},
   "outputs": [],
   "source": [
    "import neptune\n",
    "\n",
    "from neptunecontrib.viz.parallel_coordinates_plot import make_parallel_coordinates_plot\n",
    "\n",
    "neptune.init('USERNAME/example-project')\n",
    "\n",
    "cols = ['id',\n",
    "        'channel_epoch_accuracy', 'channel_epoch_loss',\n",
    "        'channel_eval_accuracy', 'channel_eval_loss',\n",
    "        'parameter_activation', 'parameter_batch_size',\n",
    "        'parameter_dense_units', 'parameter_dropout',\n",
    "        'parameter_learning_rate', 'parameter_optimizer']"
   ]
  },
  {
   "cell_type": "markdown",
   "metadata": {},
   "source": [
    "## Make and save visualization to standalone html file"
   ]
  },
  {
   "cell_type": "code",
   "execution_count": null,
   "metadata": {},
   "outputs": [],
   "source": [
    "# magic happens here :)\n",
    "# include 'html_file_path' parameter\n",
    "make_parallel_coordinates_plot(cols, tag='optuna', html_file_path='my_visual.html')"
   ]
  },
  {
   "cell_type": "markdown",
   "metadata": {},
   "source": [
    "![HiPlot-overview](../_static/images/example_hiplot_1.png)"
   ]
  },
  {
   "cell_type": "markdown",
   "metadata": {},
   "source": [
    "## Setup visualization\n",
    "1. axes order\n",
    "1. drop unused axes\n",
    "1. apply coloring to axis\n",
    "1. sort by clicking on axis\n",
    "\n",
    "![HiPlot-features](../_static/images/example_hiplot_1.gif)"
   ]
  },
  {
   "cell_type": "markdown",
   "metadata": {},
   "source": [
    "## Inspect experiments lineage\n",
    "![HiPlot-lineage](../_static/images/example_hiplot_2.gif)"
   ]
  }
 ],
 "metadata": {
  "kernelspec": {
   "display_name": "Python 3",
   "language": "python",
   "name": "python3"
  },
  "language_info": {
   "codemirror_mode": {
    "name": "ipython",
    "version": 3
   },
   "file_extension": ".py",
   "mimetype": "text/x-python",
   "name": "python",
   "nbconvert_exporter": "python",
   "pygments_lexer": "ipython3",
   "version": "3.6.9"
  }
 },
 "nbformat": 4,
 "nbformat_minor": 4
}
