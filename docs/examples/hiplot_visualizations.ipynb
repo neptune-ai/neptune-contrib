{
 "cells": [
  {
   "cell_type": "markdown",
   "metadata": {},
   "source": [
    "# Use parallel coordinates plot to analyse multiple experiments"
   ]
  },
  {
   "cell_type": "markdown",
   "metadata": {},
   "source": [
    "## Outline\n",
    "1. Fetch multiple experiments and analyse the relations between parameters and metrics.\n",
    "1. (optionally) Save vizualization as html.\n",
    "1. Setup the visualization to your liking.\n",
    "1. Inspect experiments lineage.\n",
    "\n",
    "## Before we start, make sure you have dependencies installed\n",
    "\n",
    "`pip install neptune-client, neptune-contrib, hiplot`"
   ]
  },
  {
   "cell_type": "markdown",
   "metadata": {},
   "source": [
    "## Fetch example project and make visualization"
   ]
  },
  {
   "cell_type": "code",
   "execution_count": null,
   "metadata": {},
   "outputs": [],
   "source": [
    "import neptune\n",
    "from neptunecontrib.viz.parallel_coordinates_plot import make_parallel_coordinates_plot\n",
    "\n",
    "neptune.init('USERNAME/example-project')\n",
    "\n",
    "cols = ['id',\n",
    "        'channel_epoch_accuracy', 'channel_epoch_loss',\n",
    "        'channel_eval_accuracy', 'channel_eval_loss',\n",
    "        'parameter_activation', 'parameter_batch_size',\n",
    "        'parameter_dense_units', 'parameter_dropout',\n",
    "        'parameter_learning_rate', 'parameter_optimizer']"
   ]
  },
  {
   "cell_type": "code",
   "execution_count": null,
   "metadata": {},
   "outputs": [],
   "source": [
    "# magic happens here :)\n",
    "make_parallel_coordinates_plot(cols, tag='optuna')"
   ]
  },
  {
   "cell_type": "markdown",
   "metadata": {},
   "source": [
    "## Save visualization to standalone html file"
   ]
  },
  {
   "cell_type": "code",
   "execution_count": null,
   "metadata": {},
   "outputs": [],
   "source": [
    "# include 'html_file_path' parameter\n",
    "make_parallel_coordinates_plot(cols, html_file_path='my_visual.html')"
   ]
  },
  {
   "cell_type": "markdown",
   "metadata": {},
   "source": [
    "## Setup vizualization\n",
    "1. axes order\n",
    "1. drop unused axes\n",
    "1. apply coloring to axis\n",
    "1. sort by clicking on axis\n",
    "[gif]"
   ]
  },
  {
   "cell_type": "markdown",
   "metadata": {},
   "source": [
    "## Inspect experiments lineage\n",
    "[gif]"
   ]
  }
 ],
 "metadata": {
  "kernelspec": {
   "display_name": "Python 3",
   "language": "python",
   "name": "python3"
  },
  "language_info": {
   "codemirror_mode": {
    "name": "ipython",
    "version": 3
   },
   "file_extension": ".py",
   "mimetype": "text/x-python",
   "name": "python",
   "nbconvert_exporter": "python",
   "pygments_lexer": "ipython3",
   "version": "3.6.10"
  }
 },
 "nbformat": 4,
 "nbformat_minor": 4
}
