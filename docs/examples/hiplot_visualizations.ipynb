{
 "cells": [
  {
   "cell_type": "markdown",
   "metadata": {},
   "source": [
    "# Use parallel coordinates plot to analyse multiple experiments"
   ]
  },
  {
   "cell_type": "markdown",
   "metadata": {},
   "source": [
    "## Outline\n",
    "1. Fetch multiple experiments and analyse the relations between parameters, metrics and properties.\n",
    "1. Save visualization as html (optionally).\n",
    "1. Setup the visualization to your liking.\n",
    "1. Inspect experiments lineage.\n",
    "\n",
    "### Before we start, make sure that you have dependencies installed\n",
    "* `neptune-client`\n",
    "* `neptune-contrib[viz]`\n",
    "* `hiplot`\n",
    "\n",
    "### Example notebooks in Neptune\n",
    "* [credit-default-prediction](https://ui.neptune.ai/neptune-ai/credit-default-prediction/n/parallel-plot-04e5c379-0837-42ff-a11c-a8861ca4a408/c486644a-a356-4317-b397-6cdae86b7575)\n",
    "* [example-project](https://ui.neptune.ai/USERNAME/example-project/n/parallel-plot-cb5394cc-edce-41e3-9a25-7970865c66ad/59377976-6651-40ed-b3c3-eb0fa5aa79bc)\n",
    "\n",
    "These notebooks are tracked in Neptune public projects. You are free to play with the plots - they are interactive.\n",
    "\n",
    "### Learn more\n",
    "Check integration [documentation](https://neptune-contrib.readthedocs.io/user_guide/viz/parallel_coordinates_plot.html) for more details."
   ]
  },
  {
   "cell_type": "markdown",
   "metadata": {},
   "source": [
    "## Set project\n",
    "Remember to set the project before you call visualization function"
   ]
  },
  {
   "cell_type": "code",
   "execution_count": null,
   "metadata": {},
   "outputs": [],
   "source": [
    "import neptune\n",
    "\n",
    "from neptunecontrib.viz.parallel_coordinates_plot import make_parallel_coordinates_plot\n",
    "\n",
    "neptune.init('USERNAME/example-project')"
   ]
  },
  {
   "cell_type": "markdown",
   "metadata": {},
   "source": [
    "## Make and save visualization to standalone html file"
   ]
  },
  {
   "cell_type": "code",
   "execution_count": null,
   "metadata": {},
   "outputs": [],
   "source": [
    "# magic happens here :)\n",
    "# use parameter 'html_file_path' to save interactive plot to standalone html file.\n",
    "make_parallel_coordinates_plot(html_file_path='my_visual.html',\n",
    "                               metrics= ['epoch_accuracy', 'epoch_loss', 'eval_accuracy', 'eval_loss'],\n",
    "                               params = ['activation', 'batch_size', 'dense_units', 'dropout', 'learning_rate', 'optimizer'],\n",
    "                               tag='optuna')"
   ]
  },
  {
   "cell_type": "markdown",
   "metadata": {},
   "source": [
    "![HiPlot-overview](../_static/images/example_hiplot_1.png)"
   ]
  },
  {
   "cell_type": "markdown",
   "metadata": {},
   "source": [
    "## Customize visualization to your need\n",
    "1. Set axes order,\n",
    "1. Drop unused axes,\n",
    "1. Apply coloring to axis,\n",
    "1. Sort by clicking on axis,\n",
    "1. Select range in axis & slide.\n",
    "\n",
    "![HiPlot-features](../_static/images/example_hiplot_1.gif)"
   ]
  },
  {
   "cell_type": "markdown",
   "metadata": {},
   "source": [
    "## Inspect experiments lineage\n",
    "1. Right-click on the axis name,\n",
    "1. Use options '*Set as X axis*' and '*Set as Y axis*' (in the menu XY group at the bottom),\n",
    "1. When both are selected, you will see lineage plot below parallel coordinates plot.\n",
    "![HiPlot-lineage](../_static/images/example_hiplot_2.gif)"
   ]
  },
  {
   "cell_type": "markdown",
   "metadata": {},
   "source": [
    "## Visualize axis distribution \n",
    "1. Right-click on the column name,\n",
    "1. Select \"*View distribution*\" at the bottom,\n",
    "1. You will see distribution chart below the parallel plot.\n",
    "![HiPlot-distribution](../_static/images/example_hiplot_3.gif)"
   ]
  }
 ],
 "metadata": {
  "kernelspec": {
   "display_name": "Python 3",
   "language": "python",
   "name": "python3"
  },
  "language_info": {
   "codemirror_mode": {
    "name": "ipython",
    "version": 3
   },
   "file_extension": ".py",
   "mimetype": "text/x-python",
   "name": "python",
   "nbconvert_exporter": "python",
   "pygments_lexer": "ipython3",
   "version": "3.6.8"
  }
 },
 "nbformat": 4,
 "nbformat_minor": 4
}
