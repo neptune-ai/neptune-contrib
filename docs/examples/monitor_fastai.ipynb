{
 "cells": [
  {
   "cell_type": "markdown",
   "metadata": {},
   "source": [
    "# Log fast.ai metrics to neptune\n",
    "\n",
    "![fastai neptune.ai integration](../_static/images/fastai_neptuneML.png)\n",
    "\n",
    "## Prerequisites\n",
    "Create your databunch."
   ]
  },
  {
   "cell_type": "code",
   "execution_count": null,
   "metadata": {},
   "outputs": [],
   "source": [
    "from fastai.vision import *\n",
    "path = untar_data(URLs.MNIST_TINY)\n",
    "\n",
    "data = ImageDataBunch.from_folder(path, ds_tfms=(rand_pad(2, 28), []), bs=64)\n",
    "data.normalize(imagenet_stats)"
   ]
  },
  {
   "cell_type": "markdown",
   "metadata": {},
   "source": [
    "## Create the `learner` find your optimal learning rate and plot it"
   ]
  },
  {
   "cell_type": "code",
   "execution_count": null,
   "metadata": {},
   "outputs": [],
   "source": [
    "learn = cnn_learner(data, models.resnet18, metrics=accuracy)\n",
    "learn.lr_find()\n",
    "learn.recorder.plot()"
   ]
  },
  {
   "cell_type": "markdown",
   "metadata": {},
   "source": [
    "![image1](https://gist.githubusercontent.com/jakubczakon/fce515fb2ff90a7b61d81edb444898bc/raw/70b214b5ea2fdc42fc83c390d43f85a943d0e030/fastai_recorder.png)"
   ]
  },
  {
   "cell_type": "markdown",
   "metadata": {},
   "source": [
    "## Create an experiment and add `neptune_monitor` callback"
   ]
  },
  {
   "cell_type": "code",
   "execution_count": null,
   "metadata": {},
   "outputs": [],
   "source": [
    "import neptune\n",
    "from neptunecontrib.monitoring.fastai import NeptuneMonitor\n",
    "\n",
    "neptune.init(project_qualified_name='USER_NAME/PROJECT_NAME')\n",
    "\n",
    "neptune.create_experiment(params={'lr': 1e-2})\n",
    "\n",
    "learn = cnn_learner(data, models.resnet18, metrics=accuracy,\n",
    "                    callback_fns=[NeptuneMonitor])\n",
    "learn.fit_one_cycle(20, 1e-2)\n",
    "\n",
    "neptune.stop()"
   ]
  },
  {
   "cell_type": "markdown",
   "metadata": {},
   "source": [
    "## Monitor your fast.ai training in neptune\n",
    "Now you can watch your fast.ai model training in neptune!\n",
    "\n",
    "Go to the [experiment link](https://ui.neptune.ai/neptune-ai/neptune-examples/e/NEP-493/charts) to see for yourself.\n",
    "\n",
    "![image2](https://gist.githubusercontent.com/jakubczakon/f754769a39ea6b8fa9728ede49b9165c/raw/c74da877561b629773976ab07139e9fe3656d17b/contrib_fastai.png)"
   ]
  },
  {
   "cell_type": "markdown",
   "metadata": {},
   "source": [
    "## Full fast.ai monitor script"
   ]
  },
  {
   "cell_type": "code",
   "execution_count": null,
   "metadata": {},
   "outputs": [],
   "source": [
    "from fastai.vision import *\n",
    "import neptune\n",
    "from neptunecontrib.monitoring.fastai import NeptuneMonitor\n",
    "\n",
    "neptune.init(project_qualified_name='USER_NAME/PROJECT_NAME')\n",
    "\n",
    "path = untar_data(URLs.MNIST_TINY)\n",
    "\n",
    "data = ImageDataBunch.from_folder(path, ds_tfms=(rand_pad(2, 28), []), bs=64)\n",
    "data.normalize(imagenet_stats)\n",
    "\n",
    "learn = cnn_learner(data, models.resnet18, metrics=accuracy)\n",
    "learn.lr_find()\n",
    "learn.recorder.plot()\n",
    "    \n",
    "neptune.create_experiment(params={'lr': 1e-2})\n",
    "\n",
    "learn = cnn_learner(data, models.resnet18,\n",
    "                   metrics=accuracy,\n",
    "                   callback_fns=[NeptuneMonitor])\n",
    "learn.fit_one_cycle(20, 1e-2)\n",
    "    \n",
    "neptune.stop()"
   ]
  }
 ],
 "metadata": {
  "kernelspec": {
   "display_name": "Python 3",
   "language": "python",
   "name": "python3"
  },
  "language_info": {
   "codemirror_mode": {
    "name": "ipython",
    "version": 3
   },
   "file_extension": ".py",
   "mimetype": "text/x-python",
   "name": "python",
   "nbconvert_exporter": "python",
   "pygments_lexer": "ipython3",
   "version": "3.6.9"
  }
 },
 "nbformat": 4,
 "nbformat_minor": 4
}
