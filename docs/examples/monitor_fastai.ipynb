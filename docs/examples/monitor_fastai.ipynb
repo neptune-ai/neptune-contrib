{
 "cells": [
  {
   "cell_type": "markdown",
   "metadata": {},
   "source": [
    "# Log fast.ai metrics to neptune\n",
    "\n",
    "## Prerequisites\n",
    "Create your databunch."
   ]
  },
  {
   "cell_type": "code",
   "execution_count": null,
   "metadata": {},
   "outputs": [],
   "source": [
    "from fastai.vision import *\n",
    "mnist = untar_data(URLs.MNIST_TINY)\n",
    "tfms = get_transforms(do_flip=False)\n",
    "data = (ImageItemList.from_folder(mnist)\n",
    "    .split_by_folder()\n",
    "    .label_from_folder()\n",
    "    .transform(tfms, size=32)\n",
    "    .databunch()\n",
    "    .normalize(imagenet_stats))"
   ]
  },
  {
   "cell_type": "markdown",
   "metadata": {},
   "source": [
    "## Create `neptune_monitor` callback"
   ]
  },
  {
   "cell_type": "code",
   "execution_count": null,
   "metadata": {},
   "outputs": [],
   "source": [
    "import neptune\n",
    "from neptunecontrib.monitoring.fastai import NeptuneMonitor\n",
    "\n",
    "neptune.init(project_qualified_name='USER_NAME/PROJECT_NAME')\n",
    "\n",
    "with neptune.create_experiment():\n",
    "    monitor = NeptuneMonitor()"
   ]
  },
  {
   "cell_type": "markdown",
   "metadata": {},
   "source": [
    "## Add `neptune_monitor` callback to the learner."
   ]
  },
  {
   "cell_type": "code",
   "execution_count": null,
   "metadata": {},
   "outputs": [],
   "source": [
    "    learn = create_cnn(data, models.resnet18, \n",
    "                      metrics=accuracy, \n",
    "                      callbacks=[neptune_monitor])\n",
    "    learn.fit_one_cycle(20, 1e-2)"
   ]
  },
  {
   "cell_type": "markdown",
   "metadata": {},
   "source": [
    "## Monitor your fast.ai training in neptune\n",
    "Now you can watch your fast.ai model training in neptune!\n",
    "\n",
    "Go to the [experiment link](https://app.neptune.ml/neptune-ml/neptune-examples/e/NEP-493/charts) to see for yourself.\n",
    "\n",
    "![image](https://gist.githubusercontent.com/jakubczakon/f754769a39ea6b8fa9728ede49b9165c/raw/c74da877561b629773976ab07139e9fe3656d17b/contrib_fastai.png)"
   ]
  },
  {
   "cell_type": "markdown",
   "metadata": {},
   "source": [
    "## Full fast.ai monitor script"
   ]
  },
  {
   "cell_type": "code",
   "execution_count": null,
   "metadata": {},
   "outputs": [],
   "source": [
    "from fastai.vision import *\n",
    "import neptune\n",
    "from neptunecontrib.monitoring.fastai import NeptuneMonitor\n",
    "\n",
    "neptune.init(project_qualified_name='USER_NAME/PROJECT_NAME')\n",
    "\n",
    "mnist = untar_data(URLs.MNIST_TINY)\n",
    "tfms = get_transforms(do_flip=False)\n",
    "\n",
    "data = (ImageItemList.from_folder(mnist)\n",
    "        .split_by_folder()\n",
    "        .label_from_folder()\n",
    "        .transform(tfms, size=32)\n",
    "        .databunch()\n",
    "        .normalize(imagenet_stats))\n",
    "\n",
    "with neptune.create_experiment():\n",
    "    neptune_monitor = NeptuneMonitor()\n",
    "    learn = create_cnn(data, models.resnet18, metrics=accuracy, callbacks=[neptune_monitor])\n",
    "    learn.fit_one_cycle(20, 1e-2)"
   ]
  }
 ],
 "metadata": {
  "kernelspec": {
   "display_name": "scraping",
   "language": "python",
   "name": "python3"
  },
  "language_info": {
   "codemirror_mode": {
    "name": "ipython",
    "version": 3
   },
   "file_extension": ".py",
   "mimetype": "text/x-python",
   "name": "python",
   "nbconvert_exporter": "python",
   "pygments_lexer": "ipython3",
   "version": "3.6.8"
  }
 },
 "nbformat": 4,
 "nbformat_minor": 2
}
