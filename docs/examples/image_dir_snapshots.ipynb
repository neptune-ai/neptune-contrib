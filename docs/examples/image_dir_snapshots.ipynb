{
 "cells": [
  {
   "cell_type": "markdown",
   "metadata": {},
   "source": [
    "# Log image directory snapshots\n",
    "\n",
    "With `log_image_dir_snapshots` you can log visual snapshots of your image directories.\n",
    "For example in case we have an image directory with 3 subdirectories `dog`, `cat`, `empty`.\n",
    "Each contains (or not) images of given class.\n",
    "\n",
    "You can log mosaic of image samples from those directories to neptune.\n",
    "Check [this experiment](https://ui.neptune.ml/jakub-czakon/examples/e/EX-96/channels).  \n",
    "\n",
    "![img](https://gist.githubusercontent.com/jakubczakon/f754769a39ea6b8fa9728ede49b9165c/raw/e729136eaf93fe39dfea88ff8eb977d62dbcb1b1/image_dir_snapshots.gif)\n",
    "\n",
    "You can visualy inspect a `version` of your dataset in Neptune.\n",
    "\n",
    "## Prerequisites\n",
    "Initialize Neptune"
   ]
  },
  {
   "cell_type": "code",
   "execution_count": null,
   "metadata": {},
   "outputs": [],
   "source": [
    "import neptune\n",
    "neptune.init('USER_NAME/PROJECT_NAME')"
   ]
  },
  {
   "cell_type": "markdown",
   "metadata": {},
   "source": [
    "## Log image directory snapshots with subfolders"
   ]
  },
  {
   "cell_type": "code",
   "execution_count": null,
   "metadata": {},
   "outputs": [],
   "source": [
    "from neptunecontrib.versioning.data import log_image_dir_snapshots\n",
    "\n",
    "PATH = '/path/to/data/my_image_dir'\n",
    "with neptune.create_experiment():\n",
    "    log_image_dir_snapshots(PATH)"
   ]
  }
 ],
 "metadata": {
  "kernelspec": {
   "display_name": "Python 3",
   "language": "python",
   "name": "python3"
  },
  "language_info": {
   "codemirror_mode": {
    "name": "ipython",
    "version": 3
   },
   "file_extension": ".py",
   "mimetype": "text/x-python",
   "name": "python",
   "nbconvert_exporter": "python",
   "pygments_lexer": "ipython3",
   "version": "3.6.8"
  }
 },
 "nbformat": 4,
 "nbformat_minor": 2
}
