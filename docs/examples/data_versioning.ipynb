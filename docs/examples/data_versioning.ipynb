{
 "cells": [
  {
   "cell_type": "markdown",
   "metadata": {},
   "source": [
    "# Version Data\n",
    "\n",
    "With `log_data_version` and `log_s3_data_version` helpers you can log data location and data hash to Neptune.\n",
    "It will be stored as property and can be viewed both in the `Details` section of an experiment:\n",
    "\n",
    "![img](https://gist.githubusercontent.com/jakubczakon/f754769a39ea6b8fa9728ede49b9165c/raw/7b98d5a5ef9dc702e9b1cf47dd1019efffc32753/feature_versions.png)\n",
    "\n",
    "and in the experiment dashboard as a column.\n",
    "\n",
    "![img1](https://gist.githubusercontent.com/jakubczakon/f754769a39ea6b8fa9728ede49b9165c/raw/7b98d5a5ef9dc702e9b1cf47dd1019efffc32753/feature_versions_dashboard.png)\n",
    "\n",
    "Check [this example project](https://ui.neptune.ml/neptune-ml/credit-default-prediction/experiments) to see more.\n",
    "\n",
    "## Prerequisites\n",
    "Initialize Neptune"
   ]
  },
  {
   "cell_type": "code",
   "execution_count": null,
   "metadata": {},
   "outputs": [],
   "source": [
    "import neptune\n",
    "neptune.init('USER_NAME/PROJECT_NAME')"
   ]
  },
  {
   "cell_type": "markdown",
   "metadata": {},
   "source": [
    "## File data version"
   ]
  },
  {
   "cell_type": "code",
   "execution_count": null,
   "metadata": {},
   "outputs": [],
   "source": [
    "from neptunecontrib.versioning.data import log_data_version\n",
    "\n",
    "FILEPATH = '/path/to/data/my_data.csv'\n",
    "with neptune.create_experiment():\n",
    "    log_data_version(FILEPATH)"
   ]
  },
  {
   "cell_type": "markdown",
   "metadata": {},
   "source": [
    "## Folder data version"
   ]
  },
  {
   "cell_type": "code",
   "execution_count": null,
   "metadata": {},
   "outputs": [],
   "source": [
    "from neptunecontrib.versioning.data import log_data_version\n",
    "\n",
    "DIRPATH = '/path/to/data/folder'\n",
    "with neptune.create_experiment():\n",
    "    log_data_version(DIRPATH)"
   ]
  },
  {
   "cell_type": "markdown",
   "metadata": {},
   "source": [
    "## S3 bucket data version \n",
    "We can log both a version of a particular `key` which is similar to file versioning."
   ]
  },
  {
   "cell_type": "code",
   "execution_count": null,
   "metadata": {},
   "outputs": [],
   "source": [
    "BUCKET = 'my-bucket'\n",
    "PATH = 'training_dataset.csv'\n",
    "with neptune.create_experiment():\n",
    "    log_s3_data_version(BUCKET, PATH)"
   ]
  },
  {
   "cell_type": "markdown",
   "metadata": {},
   "source": [
    "We can log a combined version of all the `keys` that start with a particular string which is similar to versioning a directory"
   ]
  },
  {
   "cell_type": "code",
   "execution_count": null,
   "metadata": {},
   "outputs": [],
   "source": [
    "BUCKET = 'my-bucket'\n",
    "PATH = 'train_dir/'\n",
    "with neptune.create_experiment():\n",
    "    log_s3_data_version(BUCKET, PATH)"
   ]
  },
  {
   "cell_type": "markdown",
   "metadata": {},
   "source": [
    "## Prefixing\n",
    "If you want to track multiple data sources make sure to prefix them before logging.\n",
    "For example:"
   ]
  },
  {
   "cell_type": "code",
   "execution_count": null,
   "metadata": {},
   "outputs": [],
   "source": [
    "from neptunecontrib.versioning.data import log_data_version\n",
    "\n",
    "FILEPATH_TABLE_1 = '/path/to/data/my_table_1.csv'\n",
    "FILEPATH_TABLE_2 = '/path/to/data/my_table_2.csv'\n",
    "\n",
    "with neptune.create_experiment():\n",
    "    log_data_version(FILEPATH_TABLE_1, prefix='table_1_')\n",
    "    log_data_version(FILEPATH_TABLE_2, prefix='table_2_')"
   ]
  }
 ],
 "metadata": {
  "kernelspec": {
   "display_name": "Python 3",
   "language": "python",
   "name": "python3"
  },
  "language_info": {
   "codemirror_mode": {
    "name": "ipython",
    "version": 3
   },
   "file_extension": ".py",
   "mimetype": "text/x-python",
   "name": "python",
   "nbconvert_exporter": "python",
   "pygments_lexer": "ipython3",
   "version": "3.6.8"
  }
 },
 "nbformat": 4,
 "nbformat_minor": 2
}
