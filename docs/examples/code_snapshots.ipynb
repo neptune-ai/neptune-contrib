{
 "cells": [
  {
   "cell_type": "markdown",
   "metadata": {},
   "source": [
    "# Snapshoting code\n",
    "\n",
    "Neptune keeps track of your `.git` commit to make sure you know on which code you ran your experiment.\n",
    "But sometimes you don't want to commit everything and in those dirty, in between commit, situations you may want Neptune\n",
    "to snapshot your code and save it with experiment.\n",
    "\n",
    "In that case you need to pass a list of files you want to snaphsot to the `upload_source_files` argument of `neptune.create_experiment` method.\n",
    "We wrote a helper that lets you create this list getting all the names of files of certain extensions in your folder and subfolders."
   ]
  },
  {
   "cell_type": "code",
   "execution_count": null,
   "metadata": {},
   "outputs": [],
   "source": [
    "import neptune\n",
    "from neptunecontrib.api.utils import get_filepaths\n",
    "\n",
    "neptune.init('USER_NAME/PROJECT_NAME')\n",
    "\n",
    "with neptune.create_experiment(upload_source_files=get_filepaths(directory='.',extensions=['.py', '.yaml', '.yml'])):\n",
    "    neptune.set_property('code_snapshot','yes!')"
   ]
  },
  {
   "cell_type": "markdown",
   "metadata": {},
   "source": [
    "Now you can view your code snapshot in Neptune.\n",
    "\n",
    "Check [this example experiment](https://ui.neptune.ml/neptune-ml/credit-default-prediction/e/CRED-108/source-code?path=src%2Fmodels%2F&file=train_lgbm.py):\n",
    "    \n",
    "![img](https://gist.githubusercontent.com/jakubczakon/f754769a39ea6b8fa9728ede49b9165c/raw/e08d47e0af278225142eaa849c86964adfa7abf0/code_snapshots.png)"
   ]
  },
  {
   "cell_type": "code",
   "execution_count": null,
   "metadata": {},
   "outputs": [],
   "source": []
  }
 ],
 "metadata": {
  "kernelspec": {
   "display_name": "Python 3",
   "language": "python",
   "name": "python3"
  },
  "language_info": {
   "codemirror_mode": {
    "name": "ipython",
    "version": 3
   },
   "file_extension": ".py",
   "mimetype": "text/x-python",
   "name": "python",
   "nbconvert_exporter": "python",
   "pygments_lexer": "ipython3",
   "version": "3.6.8"
  }
 },
 "nbformat": 4,
 "nbformat_minor": 2
}
