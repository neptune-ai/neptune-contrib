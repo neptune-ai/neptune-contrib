{
 "cells": [
  {
   "cell_type": "markdown",
   "metadata": {},
   "source": [
    "# Log matplotlib figure to neptune\n",
    "## Create figure\n",
    "Create your `matplotlib.figure.Figure` object.\n",
    "\n",
    "It can be a confusion matrix, distrubution or anything else that you want to plot."
   ]
  },
  {
   "cell_type": "code",
   "execution_count": null,
   "metadata": {},
   "outputs": [],
   "source": [
    "import matplotlib.pyplot as plt\n",
    "import numpy as np\n",
    "import seaborn as sns\n",
    "fig = plt.figure(figsize=(16,12))\n",
    "sns.distplot(np.random.random(100))"
   ]
  },
  {
   "cell_type": "markdown",
   "metadata": {},
   "source": [
    "## Convert to PIL\n",
    "Neptune accepts `PIL.Image` objects so you need to convert it from figure.\n",
    "\n",
    "You can use the `neptunecontrib.monitoring.utils.fig2pil` helper function."
   ]
  },
  {
   "cell_type": "code",
   "execution_count": null,
   "metadata": {},
   "outputs": [],
   "source": [
    "from neptunecontrib.monitoring.uitls import fig2pil\n",
    "\n",
    "pil_figure = fig2pil(fig)"
   ]
  },
  {
   "cell_type": "markdown",
   "metadata": {},
   "source": [
    "## Creatae `neptune.Image`\n",
    "Now you can create your `neptune.Image` object. \n",
    "Specify`name` and `description`."
   ]
  },
  {
   "cell_type": "code",
   "execution_count": null,
   "metadata": {},
   "outputs": [],
   "source": [
    "import neptune\n",
    "\n",
    "neptune_figure = neptune.Image(name='chart', description='', data=pil_figure)"
   ]
  },
  {
   "cell_type": "markdown",
   "metadata": {},
   "source": [
    "## Log to neptune\n",
    "Now you can log it to neptune with the `.channel_send` function."
   ]
  },
  {
   "cell_type": "code",
   "execution_count": null,
   "metadata": {},
   "outputs": [],
   "source": [
    "ctx = neptune.Context()\n",
    "\n",
    "ctx.channel_send('chart_logs', neptune_figure)"
   ]
  },
  {
   "cell_type": "markdown",
   "metadata": {},
   "source": [
    "## Explore in neptune\n",
    "Go to the experiment to check it out.\n",
    "For example you can [go to this experiment]().\n",
    "\n",
    "![image](https://gist.githubusercontent.com/jakubczakon/f754769a39ea6b8fa9728ede49b9165c/raw/6d6cf39a53bad438af2bcb89094bd78629884a8e/contrib_log_matplotlib.png)"
   ]
  },
  {
   "cell_type": "code",
   "execution_count": null,
   "metadata": {},
   "outputs": [],
   "source": []
  }
 ],
 "metadata": {
  "kernelspec": {
   "display_name": "Python 3",
   "language": "python",
   "name": "python3"
  },
  "language_info": {
   "codemirror_mode": {
    "name": "ipython",
    "version": 3
   },
   "file_extension": ".py",
   "mimetype": "text/x-python",
   "name": "python",
   "nbconvert_exporter": "python",
   "pygments_lexer": "ipython3",
   "version": "3.6.8"
  }
 },
 "nbformat": 4,
 "nbformat_minor": 2
}
