{
 "cells": [
  {
   "cell_type": "markdown",
   "metadata": {},
   "source": [
    "# Sync any experiment with Neptune\n",
    "## Create .json file containing your experiment data\n",
    "You can run experiment in any language or framework and simply create a \n",
    "json with all the data that you care to save to neptune.\n",
    "\n",
    "For example your `experiment_data.json` could look like this:\n",
    "\n",
    "```json\n",
    "{\n",
    "    'name':'example',\n",
    "    'description':'json tracking experiment',\n",
    "    'params':{'lr':0.1,\n",
    "            'batch_size': 128,\n",
    "            'dropount': 0.5\n",
    "           },\n",
    "    'properties':{'data_version':'1231ffwefef9',\n",
    "                'data_path': '/mnt/path/to/data'\n",
    "               },\n",
    "    'tags':['resnet','no_preprocessing'],\n",
    "    'upload_source_files':['train.sh'],\n",
    "    'send_metric':{'log_loss': {'x': [0, 1, 2, 3, 4, 5, 6, 7, 8, 9, 10],\n",
    "                              'y': [0, 1, 4, 9, 16, 25, 36, 49, 64, 81, 100]\n",
    "                               },\n",
    "                    'accuracy':{'x': [0, 4, 5, 8, 9],\n",
    "                                'y': [0.23, 0.47, 0.62, 0.89, 0.92]\n",
    "                            }\n",
    "                },\n",
    "    'send_text':{ 'hash':{'x': [0, 4, 5, 8, 9],\n",
    "                       'y': ['123123','as32e132', '123sdads', '123asdasd',' asd324132a']\n",
    "                            },\n",
    "               },\n",
    "    'send_image':{'heatmaps':{'x': [0,1,2],\n",
    "                                 'y': ['img1.png', 'img2.png', 'img3.png']\n",
    "                                },\n",
    "                 },\n",
    "}\n",
    "```\n",
    "\n",
    "## Sync with Neptune\n",
    "Now all you need is to send this data to your Neptune project.\n",
    "\n",
    "```bash\n",
    "python -m neptunecontrib.sync.with_json \\\n",
    "--project_name neptune-ml/neptune-examples \\\n",
    "--filepath experiment_data.json\n",
    "\n",
    "```\n",
    "\n",
    "## Explore your experiment in Neptune\n",
    "Now your experiment data is safely logged to Neptune and you can easily explore it.\n",
    "Go to the [experiment link](https://app.neptune.ml/o/neptune-ml/org/neptune-examples/e/NEP-506/charts) to see for yourself!\n",
    "\n",
    "![image](https://gist.githubusercontent.com/jakubczakon/f754769a39ea6b8fa9728ede49b9165c/raw/0f914ef66ec5821a83eec687c772fd2692a4d424/json1.png)\n",
    "\n",
    "![image1](https://gist.githubusercontent.com/jakubczakon/f754769a39ea6b8fa9728ede49b9165c/raw/0f914ef66ec5821a83eec687c772fd2692a4d424/json2.png)\n",
    "\n",
    "![image2](https://gist.githubusercontent.com/jakubczakon/f754769a39ea6b8fa9728ede49b9165c/raw/0f914ef66ec5821a83eec687c772fd2692a4d424/json3.png)"
   ]
  },
  {
   "cell_type": "code",
   "execution_count": null,
   "metadata": {},
   "outputs": [],
   "source": []
  }
 ],
 "metadata": {
  "kernelspec": {
   "display_name": "scraping",
   "language": "python",
   "name": "python3"
  },
  "language_info": {
   "codemirror_mode": {
    "name": "ipython",
    "version": 3
   },
   "file_extension": ".py",
   "mimetype": "text/x-python",
   "name": "python",
   "nbconvert_exporter": "python",
   "pygments_lexer": "ipython3",
   "version": "3.6.8"
  }
 },
 "nbformat": 4,
 "nbformat_minor": 2
}
