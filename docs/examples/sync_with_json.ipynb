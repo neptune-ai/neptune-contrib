{
 "cells": [
  {
   "cell_type": "markdown",
   "metadata": {},
   "source": [
    "# Sync any experiment with Neptune\n",
    "## Create .json file containing your experiment data\n",
    "You can run experiment in any language or framework and simply create a \n",
    "json with all the data that you care to save to neptune.\n",
    "\n",
    "For example your `experiment_data.json` could look like this:\n",
    "\n",
    "```json\n",
    "    {\"name\": \"baseline\", \n",
    "     \"parameters\": {\"lr\": 0.1, \n",
    "                    \"batch_size\": 32\n",
    "                   }, \n",
    "     \"tags\": [\"base\", \"solution-1\", \"pytorch\"], \n",
    "     \"channels\": {\"log_loss\": {\"x\": [0, 1, 2, 3, 4, 5, 6, 7, 8, 9, 10], \n",
    "                               \"y\": [0, 1, 4, 9, 16, 25, 36, 49, 64, 81, 100]\n",
    "                              }\n",
    "                 }, \n",
    "     \"properties\": {\"data_version\": \"version_1\"\n",
    "                   }\n",
    "    }\n",
    "```\n",
    "\n",
    "## Sync with Neptune\n",
    "Now all you need is to send this data to your Neptune project.\n",
    "\n",
    "```bash\n",
    "python -m neptunecontrib.sync.with_json \\\n",
    "--project_name neptune-ml/neptune-examples \\\n",
    "--filepath experiment_data.json\n",
    "\n",
    "```\n",
    "\n",
    "## Explore your experiment in Neptune\n",
    "Now your experiment data is safely logged to Neptune and you can easily explore it.\n",
    "Go to the [experiment link](https://app.neptune.ml/o/neptune-ml/org/neptune-examples/e/NEP-506/charts) to see for yourself!\n",
    "\n",
    "![image](https://gist.githubusercontent.com/jakubczakon/f754769a39ea6b8fa9728ede49b9165c/raw/18b476c5ba53b7f7c67f8c61eba1a22a98862f83/contrib_sync1.png)\n",
    "\n",
    "![image1](https://gist.githubusercontent.com/jakubczakon/f754769a39ea6b8fa9728ede49b9165c/raw/18b476c5ba53b7f7c67f8c61eba1a22a98862f83/contrib_sync2.png)"
   ]
  }
 ],
 "metadata": {
  "kernelspec": {
   "display_name": "neptunecontrib_py36",
   "language": "python",
   "name": "python3"
  },
  "language_info": {
   "codemirror_mode": {
    "name": "ipython",
    "version": 3
   },
   "file_extension": ".py",
   "mimetype": "text/x-python",
   "name": "python",
   "nbconvert_exporter": "python",
   "pygments_lexer": "ipython3",
   "version": "3.6.8"
  }
 },
 "nbformat": 4,
 "nbformat_minor": 2
}
