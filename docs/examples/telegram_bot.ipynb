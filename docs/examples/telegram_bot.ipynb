{
 "cells": [
  {
   "cell_type": "markdown",
   "metadata": {},
   "source": [
    "# Telegram Bot\n",
    "Inspired by the beautiful [blog post and package Telegrad](https://towardsdatascience.com/how-to-monitor-and-control-deep-learning-experiments-through-your-phone-35ef1704928d\n",
    ") we have decided to write the telegram bot for Neptune!\n",
    "\n",
    "## Prerequisites\n",
    "\n",
    "### Create telegram bot api token\n",
    "\n",
    "* Open the Telegram app\n",
    "* Search for the BotFather user\n",
    "* Start a conversation with BotFather and click on start\n",
    "* Send /newbot and follow the instructions on the screen\n",
    "* Copy the bot token\n",
    "\n",
    "### Get neptune api token\n",
    " * Run the following command:\n",
    "\n",
    "```bash\n",
    "neptune account api-token get\n",
    "```\n",
    "\n",
    " * Copy neptune token\n",
    "\n",
    "## Fire up your bot\n",
    "Now all you need is to send this data to your Neptune project.\n",
    "\n",
    "```bash\n",
    "python -m neptunecontrib.bots.telegram_bot \\\n",
    "--telegram_api_token \"asdasfasdg23523rfasdfasd\" \\\n",
    "--neptune_api_token \"asfasdgfaewae23423qwefdASFsa=\"\n",
    "\n",
    "```\n",
    "\n",
    "## Talk to your bot\n",
    "\n",
    "![image](https://gist.githubusercontent.com/jakubczakon/f754769a39ea6b8fa9728ede49b9165c/raw/2e6f056574d035c6d744fc5d89f1ed55bf155abf/contrib_bot1.png)\n",
    "\n",
    "![image1](https://gist.githubusercontent.com/jakubczakon/f754769a39ea6b8fa9728ede49b9165c/raw/2e6f056574d035c6d744fc5d89f1ed55bf155abf/contrib_bot2.png)"
   ]
  }
 ],
 "metadata": {
  "kernelspec": {
   "display_name": "neptunecontrib_py36",
   "language": "python",
   "name": "python3"
  },
  "language_info": {
   "codemirror_mode": {
    "name": "ipython",
    "version": 3
   },
   "file_extension": ".py",
   "mimetype": "text/x-python",
   "name": "python",
   "nbconvert_exporter": "python",
   "pygments_lexer": "ipython3",
   "version": "3.6.8"
  }
 },
 "nbformat": 4,
 "nbformat_minor": 2
}
